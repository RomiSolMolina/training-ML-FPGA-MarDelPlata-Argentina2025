{
 "cells": [
  {
   "cell_type": "markdown",
   "metadata": {},
   "source": [
    "![text](header.png)"
   ]
  },
  {
   "cell_type": "markdown",
   "metadata": {},
   "source": [
    "### MLP-based model compression "
   ]
  },
  {
   "cell_type": "markdown",
   "metadata": {},
   "source": [
    "#### Libraries"
   ]
  },
  {
   "cell_type": "code",
   "execution_count": null,
   "metadata": {},
   "outputs": [],
   "source": [
    "import os\n",
    "import numpy as np\n",
    "from numpy import array\n",
    "import matplotlib.pyplot as plt\n",
    "import seaborn as sn\n",
    "import pandas as pd\n",
    "\n",
    "## Tensorflow + Keras libraries\n",
    "import tensorflow as tf\n",
    "from tensorflow import keras\n",
    "from tensorflow.keras import Sequential\n",
    "from tensorflow.keras.models import *\n",
    "from tensorflow.keras.layers import *\n",
    "from tensorflow.keras.utils import to_categorical\n",
    "from tensorflow.keras.optimizers import SGD, Adam\n",
    "import tensorflow_model_optimization as tfmot\n",
    "from tensorflow_model_optimization.python.core.sparsity.keras import prune, pruning_callbacks, pruning_schedule\n",
    "from tensorflow_model_optimization.sparsity.keras import strip_pruning\n",
    "\n",
    "## Quantization\n",
    "from qkeras import *\n",
    "\n",
    "## Datasets\n",
    "from tensorflow.keras.datasets import cifar10\n",
    "from tensorflow.keras.datasets import cifar100\n",
    "from tensorflow.keras.datasets import mnist\n",
    "from tensorflow.keras.datasets import fashion_mnist\n",
    "\n",
    "\n",
    "from sklearn.metrics import confusion_matrix, ConfusionMatrixDisplay"
   ]
  },
  {
   "cell_type": "markdown",
   "metadata": {},
   "source": [
    "#### Enable GPU "
   ]
  },
  {
   "cell_type": "code",
   "execution_count": null,
   "metadata": {},
   "outputs": [],
   "source": [
    "# GPU\n",
    "os.environ['TF_XLA_FLAGS'] = '--tf_xla_enable_xla_devices'\n",
    "\n",
    "import tensorflow as tf\n",
    "print(\"GPUs: \", len(tf.config.experimental.list_physical_devices('GPU')))\n",
    "\n",
    "import tensorflow as tf\n",
    "gpus = tf.config.experimental.list_physical_devices('GPU')\n",
    "if gpus:\n",
    "    try:\n",
    "        for gpu in gpus:\n",
    "            tf.config.experimental.set_memory_growth(gpu, True)\n",
    "\n",
    "    except RuntimeError as e:\n",
    "        print(e)"
   ]
  },
  {
   "cell_type": "markdown",
   "metadata": {},
   "source": [
    "#### Load dataset"
   ]
  },
  {
   "cell_type": "code",
   "execution_count": null,
   "metadata": {},
   "outputs": [],
   "source": [
    "# Fashion MNIST\n",
    "(x_train, y_train), (x_test, y_test) = fashion_mnist.load_data()\n",
    "x_train_norm, x_test_norm = x_train / 255.0, x_test / 255.0          \n"
   ]
  },
  {
   "cell_type": "markdown",
   "metadata": {},
   "source": [
    "#### Fashion MNIST: classes\n",
    "\n",
    "| Label | Class |  \n",
    "|-----------|-----------|\n",
    "|0  | T-shirt/top\t   |\n",
    "|1\t|Trouser    |\n",
    "|2\t|Pullover|\n",
    "|3\t|Dress|\n",
    "|4\t|Coat|\n",
    "|5\t|Sandal|\n",
    "|6\t|Shirt|\n",
    "|7\t|Sneaker|\n",
    "|8\t|Bag\t|\n",
    "|9\t|Ankle boot|"
   ]
  },
  {
   "cell_type": "code",
   "execution_count": null,
   "metadata": {},
   "outputs": [],
   "source": [
    "# Image index\n",
    "\n",
    "N = 32\n",
    "\n",
    "plt.figure(figsize=(3,3))\n",
    "plt.imshow(x_train[N], cmap='gray')"
   ]
  },
  {
   "cell_type": "code",
   "execution_count": null,
   "metadata": {},
   "outputs": [],
   "source": [
    "# Labels\n",
    "y_train"
   ]
  },
  {
   "cell_type": "markdown",
   "metadata": {},
   "source": [
    "### Load model\n",
    "\n"
   ]
  },
  {
   "cell_type": "code",
   "execution_count": null,
   "metadata": {},
   "outputs": [],
   "source": [
    "model = load_model('fashionMNIST.h5')"
   ]
  },
  {
   "cell_type": "code",
   "execution_count": null,
   "metadata": {},
   "outputs": [],
   "source": [
    "model.summary()"
   ]
  },
  {
   "cell_type": "code",
   "execution_count": null,
   "metadata": {},
   "outputs": [],
   "source": [
    "n_classes = 10\n",
    "# One-hot encode labels\n",
    "y_train = to_categorical(y_train, num_classes = n_classes)\n",
    "y_test = to_categorical(y_test, num_classes = n_classes)"
   ]
  },
  {
   "cell_type": "code",
   "execution_count": null,
   "metadata": {},
   "outputs": [],
   "source": [
    "y_train"
   ]
  },
  {
   "cell_type": "markdown",
   "metadata": {},
   "source": [
    "### Pruning"
   ]
  },
  {
   "cell_type": "code",
   "execution_count": null,
   "metadata": {},
   "outputs": [],
   "source": [
    "epochs = 64\n",
    "batch = 64\n",
    "lr = 0.0001\n",
    "op = Adam(lr)\n",
    "loss = 'categorical_crossentropy'\n",
    "metrics = ['accuracy']\n",
    "val_split = 0.2\n",
    "\n",
    "final_sparsity = 0.2\n",
    "\n",
    "\n",
    "## PolynomialDecay: gradually increases the sparsity of a model over time using a polynomial function. \n",
    "# This helps in iterative pruning, where pruning is applied progressively rather than all at once, \n",
    "# improving accuracy retention.\n",
    "\n",
    "pruning_params = {\n",
    "                'pruning_schedule': tfmot.sparsity.keras.PolynomialDecay(\n",
    "                initial_sparsity=0, final_sparsity=final_sparsity, begin_step=0, end_step=1000\n",
    "                )\n",
    "            }"
   ]
  },
  {
   "cell_type": "code",
   "execution_count": null,
   "metadata": {},
   "outputs": [],
   "source": [
    "modelP = tfmot.sparsity.keras.prune_low_magnitude(model, **pruning_params)\n",
    "\n",
    "modelP.compile(optimizer=op, loss=loss, metrics=metrics)"
   ]
  },
  {
   "cell_type": "markdown",
   "metadata": {},
   "source": [
    "### Model training"
   ]
  },
  {
   "cell_type": "code",
   "execution_count": null,
   "metadata": {},
   "outputs": [],
   "source": [
    "history = modelP.fit(\n",
    "                x_train_norm, y_train,\n",
    "                validation_split = val_split,\n",
    "                epochs=epochs,\n",
    "                batch_size = batch,\n",
    "                callbacks = [tfmot.sparsity.keras.UpdatePruningStep()],\n",
    "                verbose=1\n",
    "            )"
   ]
  },
  {
   "cell_type": "code",
   "execution_count": null,
   "metadata": {},
   "outputs": [],
   "source": [
    "# Model evaluation\n",
    "test_loss, test_acc = modelP.evaluate(x_test_norm, y_test)\n",
    "print(f\"\\nTest accuracy: {test_acc:.4f}\")"
   ]
  },
  {
   "cell_type": "code",
   "execution_count": null,
   "metadata": {},
   "outputs": [],
   "source": [
    "# Plot accuracy over epochs\n",
    "plt.figure(figsize=(15,3))\n",
    "plt.plot(history.history['accuracy'], label='Train Accuracy')\n",
    "plt.plot(history.history['val_accuracy'], label='Validation Accuracy')\n",
    "plt.xlabel('Epochs')\n",
    "plt.ylabel('Accuracy')\n",
    "plt.legend()\n",
    "plt.title('Accuracy over epochs')\n",
    "plt.show()"
   ]
  },
  {
   "cell_type": "code",
   "execution_count": null,
   "metadata": {},
   "outputs": [],
   "source": [
    "# Plot accuracy over loss\n",
    "plt.figure(figsize=(15,3))\n",
    "plt.plot(history.history['loss'], label='Train Loss')\n",
    "plt.plot(history.history['val_loss'], label='Validation Loss')\n",
    "plt.xlabel('Epochs')\n",
    "plt.ylabel('Loss')\n",
    "plt.title('Loss during training')\n",
    "plt.legend()\n",
    "plt.show()"
   ]
  },
  {
   "cell_type": "markdown",
   "metadata": {},
   "source": [
    "### Confusion Matrix"
   ]
  },
  {
   "cell_type": "code",
   "execution_count": null,
   "metadata": {},
   "outputs": [],
   "source": [
    "y_pred_probs = model.predict(x_test_norm)\n",
    "y_pred = np.argmax(y_pred_probs, axis=1)\n",
    "\n",
    "y_true = np.argmax(y_test, axis=1)  # Convert one-hot encoded labels to class indices\n",
    "\n",
    "cm = confusion_matrix(y_true, y_pred)\n",
    "disp = ConfusionMatrixDisplay(confusion_matrix=cm)\n",
    "disp.plot(cmap=\"Purples\")\n",
    "plt.title('Confusion Matrix Fashion MNIST - Pruning')\n",
    "plt.show()\n"
   ]
  },
  {
   "cell_type": "markdown",
   "metadata": {},
   "source": [
    "### Quantization-aware training"
   ]
  },
  {
   "cell_type": "markdown",
   "metadata": {},
   "source": [
    "QDense: A quantized version of Dense.\n",
    "\n",
    "quantized_bits(N, M, alpha):\n",
    "\n",
    "- N: Total bits used.\n",
    "\n",
    "- M: Bits for the fractional part.\n",
    "\n",
    "- alpha: Scaling factor.\n",
    "\n",
    "QActivation: Applies quantized activations such as quantized_relu and quantized_softmax."
   ]
  },
  {
   "cell_type": "code",
   "execution_count": null,
   "metadata": {},
   "outputs": [],
   "source": [
    "\n",
    "kernelQ = \"quantized_bits(8,4,alpha=1)\"\n",
    "biasQ = \"quantized_bits(8, 4,alpha=1)\"\n",
    "activationQ = 'quantized_bits(8, 4)'\n",
    "\n",
    "modelQAT = Sequential(\n",
    "            [   \n",
    "                Flatten(input_shape=(28, 28)),\n",
    "                QDense(250, name='fc1',\n",
    "                        kernel_quantizer= kernelQ, bias_quantizer= biasQ,\n",
    "                        kernel_initializer='lecun_uniform'),\n",
    "                QActivation(activation= activationQ ,  name='relu1'),\n",
    "\n",
    "                Dropout(0.1),\n",
    "\n",
    "                QDense(100, name='fc2',\n",
    "                        kernel_quantizer=kernelQ, bias_quantizer=biasQ,\n",
    "                        kernel_initializer='lecun_uniform'),\n",
    "                QActivation(activation=activationQ, name='relu2'), \n",
    "                Dropout(0.1),\n",
    "                \n",
    "\n",
    "                QDense(20, name='fc3',\n",
    "                        kernel_quantizer=kernelQ, bias_quantizer=biasQ,\n",
    "                        kernel_initializer='lecun_uniform'),\n",
    "                QActivation(activation=activationQ, name='relu3'), \n",
    "                \n",
    "                \n",
    "                \n",
    "                QDense(10, name='output',\n",
    "                        kernel_quantizer= kernelQ, bias_quantizer= biasQ,\n",
    "                        kernel_initializer='lecun_uniform'),\n",
    "                Activation(activation='softmax', name='softmax')\n",
    "               \n",
    "            ],\n",
    "\n",
    "            name=\"quantizedModel\",\n",
    "        )"
   ]
  },
  {
   "cell_type": "code",
   "execution_count": null,
   "metadata": {},
   "outputs": [],
   "source": [
    "modelQAT.summary()"
   ]
  },
  {
   "cell_type": "code",
   "execution_count": null,
   "metadata": {},
   "outputs": [],
   "source": [
    "# Training (QAT)\n",
    "\n",
    "epochs = 16\n",
    "lr = 0.001\n",
    "loss = 'categorical_crossentropy'\n",
    "op = Adam(lr)\n",
    "metrics = ['accuracy']\n",
    "batch = 64\n",
    "val_split = 0.2\n",
    "\n",
    "\n",
    "modelQAT.compile(optimizer=op, loss=loss, metrics=metrics)\n",
    "                \n",
    "H = modelQAT.fit(x_train_norm, y_train,\n",
    "                validation_split = val_split,\n",
    "                epochs=epochs,\n",
    "                batch_size = batch,\n",
    "                verbose=1\n",
    "                )\n"
   ]
  },
  {
   "cell_type": "code",
   "execution_count": null,
   "metadata": {},
   "outputs": [],
   "source": [
    "# Plot accuracy over epochs\n",
    "plt.figure(figsize=(10,3))\n",
    "plt.plot(H.history['accuracy'], label='Train Accuracy')\n",
    "plt.plot(H.history['val_accuracy'], label='Validation Accuracy')\n",
    "plt.xlabel('Epochs')\n",
    "plt.ylabel('Accuracy')\n",
    "plt.legend()\n",
    "plt.show()"
   ]
  },
  {
   "cell_type": "code",
   "execution_count": null,
   "metadata": {},
   "outputs": [],
   "source": [
    "y_pred_probs = modelQAT.predict(x_test_norm)\n",
    "y_pred = np.argmax(y_pred_probs, axis=1)\n",
    "\n",
    "# Since y_test is one-hot encoded, you need to convert it back to class indices\n",
    "y_true = np.argmax(y_test, axis=1)  # Convert one-hot encoded labels to class indices\n",
    "\n",
    "cm = confusion_matrix(y_true, y_pred)\n",
    "disp = ConfusionMatrixDisplay(confusion_matrix=cm)\n",
    "disp.plot(cmap=\"Purples\")\n",
    "plt.title('Confusion Matrix MNIST - Pruning')\n",
    "plt.show()\n"
   ]
  },
  {
   "cell_type": "code",
   "execution_count": null,
   "metadata": {},
   "outputs": [],
   "source": []
  },
  {
   "cell_type": "markdown",
   "metadata": {},
   "source": [
    "---\n",
    "#### Mar del Plata, Argentina - 2025\n",
    "\n",
    "Romina Soledad Molina, Ph.D. - MLab/STI ICTP, Trieste, Italy"
   ]
  }
 ],
 "metadata": {
  "kernelspec": {
   "display_name": "neuralEnv",
   "language": "python",
   "name": "python3"
  },
  "language_info": {
   "codemirror_mode": {
    "name": "ipython",
    "version": 3
   },
   "file_extension": ".py",
   "mimetype": "text/x-python",
   "name": "python",
   "nbconvert_exporter": "python",
   "pygments_lexer": "ipython3",
   "version": "3.9.13"
  }
 },
 "nbformat": 4,
 "nbformat_minor": 2
}
