{
 "cells": [
  {
   "cell_type": "markdown",
   "metadata": {},
   "source": [
    "![alt text](../img/general/header.png)\n"
   ]
  },
  {
   "cell_type": "markdown",
   "metadata": {},
   "source": [
    "# Compresión de modelos basados en ML\n",
    "\n"
   ]
  },
  {
   "cell_type": "markdown",
   "metadata": {},
   "source": [
    "### Librerías"
   ]
  },
  {
   "cell_type": "code",
   "execution_count": 1,
   "metadata": {},
   "outputs": [
    {
     "name": "stderr",
     "output_type": "stream",
     "text": [
      "/tools/anaconda3/envs/neuralEnv/lib/python3.9/site-packages/pandas/core/computation/expressions.py:21: UserWarning: Pandas requires version '2.8.4' or newer of 'numexpr' (version '2.8.3' currently installed).\n",
      "  from pandas.core.computation.check import NUMEXPR_INSTALLED\n",
      "/tools/anaconda3/envs/neuralEnv/lib/python3.9/site-packages/pandas/core/arrays/masked.py:60: UserWarning: Pandas requires version '1.3.6' or newer of 'bottleneck' (version '1.3.5' currently installed).\n",
      "  from pandas.core import (\n",
      "2025-04-04 17:57:09.206748: I tensorflow/stream_executor/platform/default/dso_loader.cc:49] Successfully opened dynamic library libcudart.so.10.1\n"
     ]
    }
   ],
   "source": [
    "import os\n",
    "import numpy as np\n",
    "from numpy import array\n",
    "import matplotlib.pyplot as plt\n",
    "import seaborn as sn\n",
    "import pandas as pd\n",
    "\n",
    "## Tensorflow + Keras libraries\n",
    "import tensorflow as tf\n",
    "from tensorflow import keras\n",
    "from tensorflow.keras import Sequential\n",
    "from tensorflow.keras.models import *\n",
    "from tensorflow.keras.layers import *\n",
    "from tensorflow.keras.utils import to_categorical\n",
    "from tensorflow.keras.optimizers import SGD, Adam\n",
    "import tensorflow_model_optimization as tfmot\n",
    "from tensorflow_model_optimization.python.core.sparsity.keras import prune, pruning_callbacks, pruning_schedule\n",
    "from tensorflow_model_optimization.sparsity.keras import strip_pruning\n",
    "\n",
    "## Quantization\n",
    "from qkeras import *\n",
    "\n",
    "## Datasets\n",
    "from tensorflow.keras.datasets import cifar10\n",
    "from tensorflow.keras.datasets import cifar100\n",
    "from tensorflow.keras.datasets import mnist\n",
    "from tensorflow.keras.datasets import fashion_mnist\n",
    "\n",
    "from distillationClassKeras import *\n",
    "from sklearn.metrics import confusion_matrix, ConfusionMatrixDisplay"
   ]
  },
  {
   "cell_type": "markdown",
   "metadata": {},
   "source": [
    "### Habilitación de GPU "
   ]
  },
  {
   "cell_type": "code",
   "execution_count": null,
   "metadata": {},
   "outputs": [],
   "source": [
    "# GPU\n",
    "os.environ['TF_XLA_FLAGS'] = '--tf_xla_enable_xla_devices'\n",
    "\n",
    "import tensorflow as tf\n",
    "print(\"GPUs: \", len(tf.config.experimental.list_physical_devices('GPU')))\n",
    "\n",
    "import tensorflow as tf\n",
    "gpus = tf.config.experimental.list_physical_devices('GPU')\n",
    "if gpus:\n",
    "    try:\n",
    "        for gpu in gpus:\n",
    "            tf.config.experimental.set_memory_growth(gpu, True)\n",
    "\n",
    "    except RuntimeError as e:\n",
    "        print(e)"
   ]
  },
  {
   "cell_type": "markdown",
   "metadata": {},
   "source": [
    "### Carga de modelo pre-entrenado"
   ]
  },
  {
   "cell_type": "code",
   "execution_count": 2,
   "metadata": {},
   "outputs": [
    {
     "name": "stderr",
     "output_type": "stream",
     "text": [
      "2025-04-04 17:57:10.979354: I tensorflow/compiler/jit/xla_cpu_device.cc:41] Not creating XLA devices, tf_xla_enable_xla_devices not set\n",
      "2025-04-04 17:57:10.980030: I tensorflow/stream_executor/platform/default/dso_loader.cc:49] Successfully opened dynamic library libcuda.so.1\n",
      "2025-04-04 17:57:11.023586: E tensorflow/stream_executor/cuda/cuda_driver.cc:328] failed call to cuInit: CUDA_ERROR_UNKNOWN: unknown error\n",
      "2025-04-04 17:57:11.023625: I tensorflow/stream_executor/cuda/cuda_diagnostics.cc:169] retrieving CUDA diagnostic information for host: mareKaleido\n",
      "2025-04-04 17:57:11.023629: I tensorflow/stream_executor/cuda/cuda_diagnostics.cc:176] hostname: mareKaleido\n",
      "2025-04-04 17:57:11.023764: I tensorflow/stream_executor/cuda/cuda_diagnostics.cc:200] libcuda reported version is: 535.183.1\n",
      "2025-04-04 17:57:11.023782: I tensorflow/stream_executor/cuda/cuda_diagnostics.cc:204] kernel reported version is: 535.183.1\n",
      "2025-04-04 17:57:11.023785: I tensorflow/stream_executor/cuda/cuda_diagnostics.cc:310] kernel version seems to match DSO: 535.183.1\n",
      "2025-04-04 17:57:11.024166: I tensorflow/core/platform/cpu_feature_guard.cc:142] This TensorFlow binary is optimized with oneAPI Deep Neural Network Library (oneDNN) to use the following CPU instructions in performance-critical operations:  SSE4.1 SSE4.2 AVX AVX2 AVX512F FMA\n",
      "To enable them in other operations, rebuild TensorFlow with the appropriate compiler flags.\n",
      "2025-04-04 17:57:11.024663: I tensorflow/compiler/jit/xla_gpu_device.cc:99] Not creating XLA devices, tf_xla_enable_xla_devices not set\n"
     ]
    }
   ],
   "source": [
    "model = load_model('../models/mnistModel_FC.h5')"
   ]
  },
  {
   "cell_type": "code",
   "execution_count": 3,
   "metadata": {},
   "outputs": [
    {
     "name": "stdout",
     "output_type": "stream",
     "text": [
      "Model: \"sequential_1\"\n",
      "_________________________________________________________________\n",
      "Layer (type)                 Output Shape              Param #   \n",
      "=================================================================\n",
      "flatten_1 (Flatten)          (None, 784)               0         \n",
      "_________________________________________________________________\n",
      "dense_4 (Dense)              (None, 256)               200960    \n",
      "_________________________________________________________________\n",
      "dense_5 (Dense)              (None, 64)                16448     \n",
      "_________________________________________________________________\n",
      "dense_6 (Dense)              (None, 32)                2080      \n",
      "_________________________________________________________________\n",
      "dense_7 (Dense)              (None, 10)                330       \n",
      "=================================================================\n",
      "Total params: 219,818\n",
      "Trainable params: 219,818\n",
      "Non-trainable params: 0\n",
      "_________________________________________________________________\n"
     ]
    }
   ],
   "source": [
    "model.summary()"
   ]
  },
  {
   "cell_type": "markdown",
   "metadata": {},
   "source": [
    "### Carga dataset\n",
    "\n",
    "Para este laboratorio vamos a trabajar con MNIST dataset."
   ]
  },
  {
   "cell_type": "code",
   "execution_count": 4,
   "metadata": {},
   "outputs": [],
   "source": [
    "# Carga del dataset, dividido en trainig y testing (data y clase)\n",
    "(x_train, y_train),(x_test, y_test) = mnist.load_data()\n",
    "x_train_norm, x_test_norm = x_train / 255.0, x_test / 255.0"
   ]
  },
  {
   "cell_type": "code",
   "execution_count": 5,
   "metadata": {},
   "outputs": [],
   "source": [
    "n_classes = 10\n",
    "# One-hot encode labels\n",
    "y_train = to_categorical(y_train, num_classes = n_classes)\n",
    "y_test = to_categorical(y_test, num_classes = n_classes)"
   ]
  },
  {
   "cell_type": "markdown",
   "metadata": {},
   "source": [
    "## Técnicas de compresión"
   ]
  },
  {
   "cell_type": "markdown",
   "metadata": {},
   "source": [
    "### 💡 Pruning (poda)\n",
    "\n",
    "**Pruning** (o poda) es una técnica utilizada para reducir el tamaño y la complejidad de un modelo de aprendizaje profundo eliminando pesos o neuronas innecesarias. Su objetivo principal es mejorar la eficiencia del modelo, reduciendo el consumo de memoria y acelerando las inferencias sin afectar significativamente su rendimiento.\n",
    "\n"
   ]
  },
  {
   "cell_type": "code",
   "execution_count": 6,
   "metadata": {},
   "outputs": [],
   "source": [
    "epochs = 16\n",
    "lr = 0.001\n",
    "loss = 'categorical_crossentropy'\n",
    "op = Adam(lr)\n",
    "metrics = ['accuracy']\n",
    "batch = 64\n",
    "val_split = 0.2\n",
    "\n",
    "final_sparsity = 0.3\n",
    "\n",
    "pruning_params = {\n",
    "                'pruning_schedule': tfmot.sparsity.keras.PolynomialDecay(\n",
    "                initial_sparsity=0, final_sparsity=final_sparsity, begin_step=0, end_step=3000\n",
    "                )\n",
    "            }"
   ]
  },
  {
   "cell_type": "code",
   "execution_count": 7,
   "metadata": {},
   "outputs": [
    {
     "name": "stderr",
     "output_type": "stream",
     "text": [
      "/tools/anaconda3/envs/neuralEnv/lib/python3.9/site-packages/tensorflow/python/keras/engine/base_layer.py:2281: UserWarning: `layer.add_variable` is deprecated and will be removed in a future version. Please use `layer.add_weight` method instead.\n",
      "  warnings.warn('`layer.add_variable` is deprecated and '\n"
     ]
    }
   ],
   "source": [
    "modelP = tfmot.sparsity.keras.prune_low_magnitude(model, **pruning_params)\n",
    "\n",
    "modelP.compile(optimizer=op, loss=loss, metrics=metrics)"
   ]
  },
  {
   "cell_type": "code",
   "execution_count": 8,
   "metadata": {},
   "outputs": [
    {
     "name": "stdout",
     "output_type": "stream",
     "text": [
      "Epoch 1/16\n",
      "WARNING:tensorflow:AutoGraph could not transform <function Pruning.conditional_mask_update.<locals>.maybe_update_masks at 0x7f8f00199940> and will run it as-is.\n",
      "Please report this to the TensorFlow team. When filing the bug, set the verbosity to 10 (on Linux, `export AUTOGRAPH_VERBOSITY=10`) and attach the full output.\n",
      "Cause: module 'gast' has no attribute 'Index'\n",
      "To silence this warning, decorate the function with @tf.autograph.experimental.do_not_convert\n",
      "WARNING: AutoGraph could not transform <function Pruning.conditional_mask_update.<locals>.maybe_update_masks at 0x7f8f00199940> and will run it as-is.\n",
      "Please report this to the TensorFlow team. When filing the bug, set the verbosity to 10 (on Linux, `export AUTOGRAPH_VERBOSITY=10`) and attach the full output.\n",
      "Cause: module 'gast' has no attribute 'Index'\n",
      "To silence this warning, decorate the function with @tf.autograph.experimental.do_not_convert\n",
      "WARNING:tensorflow:AutoGraph could not transform <function Pruning.conditional_mask_update.<locals>.maybe_update_masks at 0x7f8f001993a0> and will run it as-is.\n",
      "Please report this to the TensorFlow team. When filing the bug, set the verbosity to 10 (on Linux, `export AUTOGRAPH_VERBOSITY=10`) and attach the full output.\n",
      "Cause: module 'gast' has no attribute 'Index'\n",
      "To silence this warning, decorate the function with @tf.autograph.experimental.do_not_convert\n",
      "WARNING: AutoGraph could not transform <function Pruning.conditional_mask_update.<locals>.maybe_update_masks at 0x7f8f001993a0> and will run it as-is.\n",
      "Please report this to the TensorFlow team. When filing the bug, set the verbosity to 10 (on Linux, `export AUTOGRAPH_VERBOSITY=10`) and attach the full output.\n",
      "Cause: module 'gast' has no attribute 'Index'\n",
      "To silence this warning, decorate the function with @tf.autograph.experimental.do_not_convert\n",
      "WARNING:tensorflow:AutoGraph could not transform <bound method Pruning._maybe_update_block_mask of <tensorflow_model_optimization.python.core.sparsity.keras.pruning_impl.Pruning object at 0x7f8f001bfb20>> and will run it as-is.\n",
      "Please report this to the TensorFlow team. When filing the bug, set the verbosity to 10 (on Linux, `export AUTOGRAPH_VERBOSITY=10`) and attach the full output.\n",
      "Cause: module 'gast' has no attribute 'Index'\n",
      "To silence this warning, decorate the function with @tf.autograph.experimental.do_not_convert\n",
      "WARNING: AutoGraph could not transform <bound method Pruning._maybe_update_block_mask of <tensorflow_model_optimization.python.core.sparsity.keras.pruning_impl.Pruning object at 0x7f8f001bfb20>> and will run it as-is.\n",
      "Please report this to the TensorFlow team. When filing the bug, set the verbosity to 10 (on Linux, `export AUTOGRAPH_VERBOSITY=10`) and attach the full output.\n",
      "Cause: module 'gast' has no attribute 'Index'\n",
      "To silence this warning, decorate the function with @tf.autograph.experimental.do_not_convert\n",
      "WARNING:tensorflow:AutoGraph could not transform <function Pruning.conditional_mask_update.<locals>.maybe_update_masks at 0x7f8f00199280> and will run it as-is.\n",
      "Please report this to the TensorFlow team. When filing the bug, set the verbosity to 10 (on Linux, `export AUTOGRAPH_VERBOSITY=10`) and attach the full output.\n",
      "Cause: module 'gast' has no attribute 'Index'\n",
      "To silence this warning, decorate the function with @tf.autograph.experimental.do_not_convert\n",
      "WARNING: AutoGraph could not transform <function Pruning.conditional_mask_update.<locals>.maybe_update_masks at 0x7f8f00199280> and will run it as-is.\n",
      "Please report this to the TensorFlow team. When filing the bug, set the verbosity to 10 (on Linux, `export AUTOGRAPH_VERBOSITY=10`) and attach the full output.\n",
      "Cause: module 'gast' has no attribute 'Index'\n",
      "To silence this warning, decorate the function with @tf.autograph.experimental.do_not_convert\n"
     ]
    },
    {
     "name": "stderr",
     "output_type": "stream",
     "text": [
      "2025-04-04 17:57:15.948435: I tensorflow/compiler/mlir/mlir_graph_optimization_pass.cc:116] None of the MLIR optimization passes are enabled (registered 2)\n",
      "2025-04-04 17:57:15.966273: I tensorflow/core/platform/profile_utils/cpu_utils.cc:112] CPU Frequency: 2304000000 Hz\n"
     ]
    },
    {
     "name": "stdout",
     "output_type": "stream",
     "text": [
      "WARNING:tensorflow:AutoGraph could not transform <function Pruning.conditional_mask_update.<locals>.maybe_update_masks at 0x7f8f001995e0> and will run it as-is.\n",
      "Please report this to the TensorFlow team. When filing the bug, set the verbosity to 10 (on Linux, `export AUTOGRAPH_VERBOSITY=10`) and attach the full output.\n",
      "Cause: module 'gast' has no attribute 'Index'\n",
      "To silence this warning, decorate the function with @tf.autograph.experimental.do_not_convert\n",
      "WARNING: AutoGraph could not transform <function Pruning.conditional_mask_update.<locals>.maybe_update_masks at 0x7f8f001995e0> and will run it as-is.\n",
      "Please report this to the TensorFlow team. When filing the bug, set the verbosity to 10 (on Linux, `export AUTOGRAPH_VERBOSITY=10`) and attach the full output.\n",
      "Cause: module 'gast' has no attribute 'Index'\n",
      "To silence this warning, decorate the function with @tf.autograph.experimental.do_not_convert\n",
      "WARNING:tensorflow:AutoGraph could not transform <function Pruning.conditional_mask_update.<locals>.maybe_update_masks at 0x7f8f00199af0> and will run it as-is.\n",
      "Please report this to the TensorFlow team. When filing the bug, set the verbosity to 10 (on Linux, `export AUTOGRAPH_VERBOSITY=10`) and attach the full output.\n",
      "Cause: module 'gast' has no attribute 'Index'\n",
      "To silence this warning, decorate the function with @tf.autograph.experimental.do_not_convert\n",
      "WARNING: AutoGraph could not transform <function Pruning.conditional_mask_update.<locals>.maybe_update_masks at 0x7f8f00199af0> and will run it as-is.\n",
      "Please report this to the TensorFlow team. When filing the bug, set the verbosity to 10 (on Linux, `export AUTOGRAPH_VERBOSITY=10`) and attach the full output.\n",
      "Cause: module 'gast' has no attribute 'Index'\n",
      "To silence this warning, decorate the function with @tf.autograph.experimental.do_not_convert\n",
      "WARNING:tensorflow:AutoGraph could not transform <function Pruning.conditional_mask_update.<locals>.maybe_update_masks at 0x7f8ef936e280> and will run it as-is.\n",
      "Please report this to the TensorFlow team. When filing the bug, set the verbosity to 10 (on Linux, `export AUTOGRAPH_VERBOSITY=10`) and attach the full output.\n",
      "Cause: module 'gast' has no attribute 'Index'\n",
      "To silence this warning, decorate the function with @tf.autograph.experimental.do_not_convert\n",
      "WARNING: AutoGraph could not transform <function Pruning.conditional_mask_update.<locals>.maybe_update_masks at 0x7f8ef936e280> and will run it as-is.\n",
      "Please report this to the TensorFlow team. When filing the bug, set the verbosity to 10 (on Linux, `export AUTOGRAPH_VERBOSITY=10`) and attach the full output.\n",
      "Cause: module 'gast' has no attribute 'Index'\n",
      "To silence this warning, decorate the function with @tf.autograph.experimental.do_not_convert\n",
      "WARNING:tensorflow:AutoGraph could not transform <function Pruning.conditional_mask_update.<locals>.maybe_update_masks at 0x7f8f001998b0> and will run it as-is.\n",
      "Please report this to the TensorFlow team. When filing the bug, set the verbosity to 10 (on Linux, `export AUTOGRAPH_VERBOSITY=10`) and attach the full output.\n",
      "Cause: module 'gast' has no attribute 'Index'\n",
      "To silence this warning, decorate the function with @tf.autograph.experimental.do_not_convert\n",
      "WARNING: AutoGraph could not transform <function Pruning.conditional_mask_update.<locals>.maybe_update_masks at 0x7f8f001998b0> and will run it as-is.\n",
      "Please report this to the TensorFlow team. When filing the bug, set the verbosity to 10 (on Linux, `export AUTOGRAPH_VERBOSITY=10`) and attach the full output.\n",
      "Cause: module 'gast' has no attribute 'Index'\n",
      "To silence this warning, decorate the function with @tf.autograph.experimental.do_not_convert\n",
      "WARNING:tensorflow:AutoGraph could not transform <function Pruning.conditional_mask_update.<locals>.maybe_update_masks at 0x7f8ef936e8b0> and will run it as-is.\n",
      "Please report this to the TensorFlow team. When filing the bug, set the verbosity to 10 (on Linux, `export AUTOGRAPH_VERBOSITY=10`) and attach the full output.\n",
      "Cause: module 'gast' has no attribute 'Index'\n",
      "To silence this warning, decorate the function with @tf.autograph.experimental.do_not_convert\n",
      "WARNING: AutoGraph could not transform <function Pruning.conditional_mask_update.<locals>.maybe_update_masks at 0x7f8ef936e8b0> and will run it as-is.\n",
      "Please report this to the TensorFlow team. When filing the bug, set the verbosity to 10 (on Linux, `export AUTOGRAPH_VERBOSITY=10`) and attach the full output.\n",
      "Cause: module 'gast' has no attribute 'Index'\n",
      "To silence this warning, decorate the function with @tf.autograph.experimental.do_not_convert\n",
      "WARNING:tensorflow:AutoGraph could not transform <function Pruning.conditional_mask_update.<locals>.maybe_update_masks at 0x7f8f001995e0> and will run it as-is.\n",
      "Please report this to the TensorFlow team. When filing the bug, set the verbosity to 10 (on Linux, `export AUTOGRAPH_VERBOSITY=10`) and attach the full output.\n",
      "Cause: module 'gast' has no attribute 'Index'\n",
      "To silence this warning, decorate the function with @tf.autograph.experimental.do_not_convert\n",
      "WARNING: AutoGraph could not transform <function Pruning.conditional_mask_update.<locals>.maybe_update_masks at 0x7f8f001995e0> and will run it as-is.\n",
      "Please report this to the TensorFlow team. When filing the bug, set the verbosity to 10 (on Linux, `export AUTOGRAPH_VERBOSITY=10`) and attach the full output.\n",
      "Cause: module 'gast' has no attribute 'Index'\n",
      "To silence this warning, decorate the function with @tf.autograph.experimental.do_not_convert\n",
      "WARNING:tensorflow:AutoGraph could not transform <function Pruning.conditional_mask_update.<locals>.maybe_update_masks at 0x7f8ef936e430> and will run it as-is.\n",
      "Please report this to the TensorFlow team. When filing the bug, set the verbosity to 10 (on Linux, `export AUTOGRAPH_VERBOSITY=10`) and attach the full output.\n",
      "Cause: module 'gast' has no attribute 'Index'\n",
      "To silence this warning, decorate the function with @tf.autograph.experimental.do_not_convert\n",
      "WARNING: AutoGraph could not transform <function Pruning.conditional_mask_update.<locals>.maybe_update_masks at 0x7f8ef936e430> and will run it as-is.\n",
      "Please report this to the TensorFlow team. When filing the bug, set the verbosity to 10 (on Linux, `export AUTOGRAPH_VERBOSITY=10`) and attach the full output.\n",
      "Cause: module 'gast' has no attribute 'Index'\n",
      "To silence this warning, decorate the function with @tf.autograph.experimental.do_not_convert\n",
      "750/750 [==============================] - 2s 2ms/step - loss: 0.2282 - accuracy: 0.9282 - val_loss: 0.1449 - val_accuracy: 0.9565\n",
      "Epoch 2/16\n",
      "750/750 [==============================] - 1s 1ms/step - loss: 0.0945 - accuracy: 0.9714 - val_loss: 0.1043 - val_accuracy: 0.9673\n",
      "Epoch 3/16\n",
      "750/750 [==============================] - 1s 1ms/step - loss: 0.0584 - accuracy: 0.9819 - val_loss: 0.0886 - val_accuracy: 0.9741\n",
      "Epoch 4/16\n",
      "750/750 [==============================] - 1s 1ms/step - loss: 0.0408 - accuracy: 0.9874 - val_loss: 0.1008 - val_accuracy: 0.9721\n",
      "Epoch 5/16\n",
      "750/750 [==============================] - 1s 1ms/step - loss: 0.0297 - accuracy: 0.9907 - val_loss: 0.0927 - val_accuracy: 0.9758\n",
      "Epoch 6/16\n",
      "750/750 [==============================] - 1s 1ms/step - loss: 0.0230 - accuracy: 0.9930 - val_loss: 0.1169 - val_accuracy: 0.9700\n",
      "Epoch 7/16\n",
      "750/750 [==============================] - 1s 1ms/step - loss: 0.0217 - accuracy: 0.9926 - val_loss: 0.0947 - val_accuracy: 0.9757\n",
      "Epoch 8/16\n",
      "750/750 [==============================] - 1s 1ms/step - loss: 0.0161 - accuracy: 0.9950 - val_loss: 0.1164 - val_accuracy: 0.9750\n",
      "Epoch 9/16\n",
      "750/750 [==============================] - 1s 1ms/step - loss: 0.0131 - accuracy: 0.9963 - val_loss: 0.1027 - val_accuracy: 0.9763\n",
      "Epoch 10/16\n",
      "750/750 [==============================] - 1s 1ms/step - loss: 0.0135 - accuracy: 0.9951 - val_loss: 0.1155 - val_accuracy: 0.9727\n",
      "Epoch 11/16\n",
      "750/750 [==============================] - 1s 1ms/step - loss: 0.0144 - accuracy: 0.9950 - val_loss: 0.1076 - val_accuracy: 0.9762\n",
      "Epoch 12/16\n",
      "750/750 [==============================] - 1s 988us/step - loss: 0.0100 - accuracy: 0.9968 - val_loss: 0.1236 - val_accuracy: 0.9739\n",
      "Epoch 13/16\n",
      "750/750 [==============================] - 1s 1ms/step - loss: 0.0107 - accuracy: 0.9962 - val_loss: 0.1019 - val_accuracy: 0.9778\n",
      "Epoch 14/16\n",
      "750/750 [==============================] - 1s 1ms/step - loss: 0.0063 - accuracy: 0.9979 - val_loss: 0.1181 - val_accuracy: 0.9757\n",
      "Epoch 15/16\n",
      "750/750 [==============================] - 1s 1ms/step - loss: 0.0067 - accuracy: 0.9977 - val_loss: 0.1532 - val_accuracy: 0.9726\n",
      "Epoch 16/16\n",
      "750/750 [==============================] - 1s 986us/step - loss: 0.0124 - accuracy: 0.9959 - val_loss: 0.1181 - val_accuracy: 0.9773\n"
     ]
    }
   ],
   "source": [
    "history = modelP.fit(\n",
    "                x_train_norm, y_train,\n",
    "                validation_split = val_split,\n",
    "                epochs=epochs,\n",
    "                batch_size = batch,\n",
    "                callbacks = [tfmot.sparsity.keras.UpdatePruningStep()],\n",
    "                verbose=1\n",
    "            )"
   ]
  },
  {
   "cell_type": "code",
   "execution_count": null,
   "metadata": {},
   "outputs": [],
   "source": [
    "# Plot accuracy over epochs\n",
    "plt.figure(figsize=(10,3))\n",
    "plt.plot(history.history['accuracy'], label='Train Accuracy')\n",
    "plt.plot(history.history['val_accuracy'], label='Validation Accuracy')\n",
    "plt.xlabel('Epochs')\n",
    "plt.ylabel('Accuracy')\n",
    "plt.legend()\n",
    "plt.show()"
   ]
  },
  {
   "cell_type": "markdown",
   "metadata": {},
   "source": [
    "#### Métricas"
   ]
  },
  {
   "cell_type": "code",
   "execution_count": null,
   "metadata": {},
   "outputs": [],
   "source": [
    "y_pred_probs = model.predict(x_test_norm)\n",
    "y_pred = np.argmax(y_pred_probs, axis=1)\n",
    "\n",
    "# Since y_test is one-hot encoded, you need to convert it back to class indices\n",
    "y_true = np.argmax(y_test, axis=1)  # Convert one-hot encoded labels to class indices\n",
    "\n",
    "cm = confusion_matrix(y_true, y_pred)\n",
    "disp = ConfusionMatrixDisplay(confusion_matrix=cm)\n",
    "disp.plot(cmap=\"Purples\")\n",
    "plt.title('Confusion Matrix MNIST - Pruning')\n",
    "plt.show()\n"
   ]
  },
  {
   "cell_type": "markdown",
   "metadata": {},
   "source": [
    "#### Guardar el modelo entrenado en disco"
   ]
  },
  {
   "cell_type": "code",
   "execution_count": null,
   "metadata": {},
   "outputs": [],
   "source": [
    "modelP = strip_pruning(modelP)\n",
    "modelP.save('models/mnistModel_FC_P.h5')"
   ]
  },
  {
   "cell_type": "markdown",
   "metadata": {},
   "source": [
    "\n",
    "####  📝 Ejercicio: \n",
    "\n",
    "- Modificar el valor de final_sparsity (0.1, 0.3, 0.5, 0.7, 0.9) y reportar las métricas para cada modelo. Qué conclusión se puede obtener al respecto? \n",
    "\n",
    "\n",
    "--- "
   ]
  },
  {
   "cell_type": "markdown",
   "metadata": {},
   "source": [
    "### 💡 Quantization (Cuantización)\n",
    "\n",
    "La cuantización es una técnica que reduce la precisión numérica de los parámetros de una red neuronal, transformando los valores de punto flotante (por ejemplo, 32 bits) a representaciones de menor precisión, como 16 bits o incluso 8 bits. El objetivo principal es reducir el tamaño del modelo y acelerar las inferencias, especialmente en dispositivos con recursos limitados, como teléfonos móviles o microcontroladores.\n",
    "\n",
    "En este laboratorio vamos a usar **quantization aware-training (QAT)** y **quantization-aware pruning (QAP)** . \n",
    "\n",
    "- QAT es una técnica de entrenamiento en la que el modelo aprende a adaptarse a la cuantización antes de ser implementado en hardware. En lugar de entrenar el modelo en precisión completa (punto flotante de 32 bits) y luego cuantizarlo, se introduce la cuantización durante el entrenamiento.\n",
    "\n",
    "- QAP combina pruning (eliminación de conexiones innecesarias en la red neuronal) con quantization-aware training. El objetivo es reducir el tamaño del modelo antes de cuantizarlo, para obtener una red más eficiente sin sacrificar precisión."
   ]
  },
  {
   "cell_type": "markdown",
   "metadata": {},
   "source": [
    "#### 💡 Quantization-aware training"
   ]
  },
  {
   "cell_type": "markdown",
   "metadata": {},
   "source": [
    "El modelo se re-define haciendo uso de **QKeras**, una extensión de Keras diseñada para crear y entrenar modelos de redes neuronales con cuantización. Su principal objetivo es optimizar modelos para hardware con recursos limitados, como FPGAs, microcontroladores y aceleradores embebidos.\n",
    "\n",
    "- Permite definir pesos y activaciones con diferentes niveles de precisión (por ejemplo, 8 bits, 4 bits, ternario (-1, 0, 1), etc.).\n",
    "\n",
    "- Al reducir la precisión numérica, disminuye el uso de memoria y el costo computacional.\n",
    "\n",
    "- Facilita la conversión de modelos cuantizados en implementaciones eficientes para FPGAs, garantizando la compatibilidad con hls4ml.\n",
    "\n",
    "- Compatible con capas estándar de Keras, pero con soporte adicional para configuraciones de precisión baja.\n",
    "\n",
    "Una vez redefinido el modelo a entrenear mediante QKeras, se procede al entrenamiento del mismo. \n",
    "\n",
    "**QKeras:** Coelho, C. N., Kuusela, A., Zhuang, H., Aarrestad, T., Loncar, V., Ngadiuba, J., ... & Summers, S. (2020). _Ultra low-latency, low-area inference accelerators using heterogeneous deep quantization with QKeras and hls4ml_. arXiv preprint arXiv:2006.10159, 108."
   ]
  },
  {
   "cell_type": "code",
   "execution_count": null,
   "metadata": {},
   "outputs": [],
   "source": [
    "## Estrategia de cuantización\n",
    "\n",
    "## Definición del número de bits para kernel, bias, y activación.\n",
    "# 8-bits\n",
    "\n",
    "kernelQ = \"quantized_bits(8,4,alpha=1)\"\n",
    "biasQ = \"quantized_bits(8, 4,alpha=1)\"\n",
    "activationQ = 'quantized_bits(8, 4)'\n",
    "\n",
    "modelQAT = Sequential(\n",
    "            [   \n",
    "                Flatten(input_shape=(28, 28)),\n",
    "                QDense(100, name='fc1',\n",
    "                        kernel_quantizer= kernelQ, bias_quantizer= biasQ,\n",
    "                        kernel_initializer='lecun_uniform'),\n",
    "                QActivation(activation= activationQ ,  name='relu1'),\n",
    "\n",
    "                Dropout(0.1),\n",
    "\n",
    "                QDense(50, name='fc2',\n",
    "                        kernel_quantizer=kernelQ, bias_quantizer=biasQ,\n",
    "                        kernel_initializer='lecun_uniform'),\n",
    "                QActivation(activation=activationQ, name='relu2'), \n",
    "                Dropout(0.1),\n",
    "                \n",
    "\n",
    "                QDense(20, name='fc3',\n",
    "                        kernel_quantizer=kernelQ, bias_quantizer=biasQ,\n",
    "                        kernel_initializer='lecun_uniform'),\n",
    "                QActivation(activation=activationQ, name='relu3'), \n",
    "                \n",
    "                Dropout(0.1),\n",
    "                \n",
    "                QDense(10, name='output',\n",
    "                        kernel_quantizer= kernelQ, bias_quantizer= biasQ,\n",
    "                        kernel_initializer='lecun_uniform'),\n",
    "                Activation(activation='softmax', name='softmax')\n",
    "               \n",
    "            ],\n",
    "\n",
    "            name=\"quantizedModel\",\n",
    "        )"
   ]
  },
  {
   "cell_type": "code",
   "execution_count": null,
   "metadata": {},
   "outputs": [],
   "source": [
    "modelQAT.summary()"
   ]
  },
  {
   "cell_type": "code",
   "execution_count": null,
   "metadata": {},
   "outputs": [],
   "source": [
    "# Entrenamiento\n",
    "\n",
    "epochs = 16\n",
    "lr = 0.001\n",
    "loss = 'categorical_crossentropy'\n",
    "op = Adam(lr)\n",
    "metrics = ['accuracy']\n",
    "batch = 64\n",
    "val_split = 0.2\n",
    "\n",
    "\n",
    "modelQAT.compile(optimizer=op, loss=loss, metrics=metrics)\n",
    "                \n",
    "H = modelQAT.fit(x_train_norm, y_train,\n",
    "                validation_split = val_split,\n",
    "                epochs=epochs,\n",
    "                batch_size = batch,\n",
    "                verbose=1\n",
    "                )"
   ]
  },
  {
   "cell_type": "code",
   "execution_count": null,
   "metadata": {},
   "outputs": [],
   "source": [
    "# Plot accuracy over epochs\n",
    "plt.figure(figsize=(10,3))\n",
    "plt.plot(history.history['accuracy'], label='Train Accuracy')\n",
    "plt.plot(history.history['val_accuracy'], label='Validation Accuracy')\n",
    "plt.xlabel('Epochs')\n",
    "plt.ylabel('Accuracy')\n",
    "plt.legend()\n",
    "plt.show()"
   ]
  },
  {
   "cell_type": "markdown",
   "metadata": {},
   "source": [
    "#### Métricas"
   ]
  },
  {
   "cell_type": "code",
   "execution_count": null,
   "metadata": {},
   "outputs": [],
   "source": [
    "y_pred_probs = model.predict(x_test_norm)\n",
    "y_pred = np.argmax(y_pred_probs, axis=1)\n",
    "\n",
    "# Since y_test is one-hot encoded, you need to convert it back to class indices\n",
    "y_true = np.argmax(y_test, axis=1)  # Convert one-hot encoded labels to class indices\n",
    "\n",
    "cm = confusion_matrix(y_true, y_pred)\n",
    "disp = ConfusionMatrixDisplay(confusion_matrix=cm)\n",
    "disp.plot(cmap=\"Purples\")\n",
    "plt.title('Confusion Matrix MNIST - Pruning')\n",
    "plt.show()\n"
   ]
  },
  {
   "cell_type": "markdown",
   "metadata": {},
   "source": [
    "#### 💡 Quantization-aware pruning\n",
    "\n",
    "Quantization-aware pruning (QAP) combina pruning con quantization-aware training. El objetivo es reducir el tamaño del modelo luego de cuantizarlo, para obtener una red más eficiente sin sacrificar precisión."
   ]
  },
  {
   "cell_type": "code",
   "execution_count": null,
   "metadata": {},
   "outputs": [],
   "source": [
    "# Estrategia para pruning\n",
    "\n",
    "final_sparsity = 0.3\n",
    "\n",
    "pruning_params = {\n",
    "                'pruning_schedule': tfmot.sparsity.keras.PolynomialDecay(\n",
    "                initial_sparsity=0, final_sparsity=final_sparsity, begin_step=0, end_step=3000\n",
    "                )\n",
    "            }\n"
   ]
  },
  {
   "cell_type": "code",
   "execution_count": null,
   "metadata": {},
   "outputs": [],
   "source": [
    "## Estrategia de cuantización\n",
    "\n",
    "## Definición del número de bits para kernel, bias, y activación.\n",
    "# 8-bits\n",
    "\n",
    "kernelQ = \"quantized_bits(8,4,alpha=1)\"\n",
    "biasQ = \"quantized_bits(8, 4,alpha=1)\"\n",
    "activationQ = 'quantized_bits(8, 4)'\n",
    "\n",
    "modelQ = Sequential(\n",
    "            [   \n",
    "                Flatten(input_shape=(28, 28)),\n",
    "                QDense(100, name='fc1',\n",
    "                        kernel_quantizer= kernelQ, bias_quantizer= biasQ,\n",
    "                        kernel_initializer='lecun_uniform'),\n",
    "                QActivation(activation= activationQ ,  name='relu1'),\n",
    "\n",
    "                Dropout(0.1),\n",
    "\n",
    "                QDense(50, name='fc2',\n",
    "                        kernel_quantizer=kernelQ, bias_quantizer=biasQ,\n",
    "                        kernel_initializer='lecun_uniform'),\n",
    "                QActivation(activation=activationQ, name='relu2'), \n",
    "                Dropout(0.1),\n",
    "                \n",
    "\n",
    "                QDense(20, name='fc3',\n",
    "                        kernel_quantizer=kernelQ, bias_quantizer=biasQ,\n",
    "                        kernel_initializer='lecun_uniform'),\n",
    "                QActivation(activation=activationQ, name='relu3'), \n",
    "                \n",
    "                Dropout(0.1),\n",
    "                \n",
    "                QDense(10, name='output',\n",
    "                        kernel_quantizer= kernelQ, bias_quantizer= biasQ,\n",
    "                        kernel_initializer='lecun_uniform'),\n",
    "                Activation(activation='softmax', name='softmax')\n",
    "               \n",
    "            ],\n",
    "\n",
    "            name=\"quantizedModel\",\n",
    "        )"
   ]
  },
  {
   "cell_type": "code",
   "execution_count": null,
   "metadata": {},
   "outputs": [],
   "source": [
    "# Entrenamiento\n",
    "\n",
    "\n",
    "epochs = 16\n",
    "lr = 0.001\n",
    "loss = 'categorical_crossentropy'\n",
    "op = Adam(lr)\n",
    "metrics = ['accuracy']\n",
    "batch = 64\n",
    "val_split = 0.2\n",
    "\n",
    "\n",
    "modelQAP = tfmot.sparsity.keras.prune_low_magnitude(modelQ, **pruning_params)\n",
    "\n",
    "modelQAP.compile(optimizer=op, loss=loss, metrics=metrics)\n",
    "                \n",
    "H = modelQAP.fit(x_train_norm, y_train,\n",
    "                validation_split = val_split,\n",
    "                epochs=epochs,\n",
    "                batch_size = batch,\n",
    "                callbacks = [tfmot.sparsity.keras.UpdatePruningStep()],\n",
    "                verbose=1\n",
    "                )"
   ]
  },
  {
   "cell_type": "markdown",
   "metadata": {},
   "source": [
    "#### Métricas"
   ]
  },
  {
   "cell_type": "code",
   "execution_count": null,
   "metadata": {},
   "outputs": [],
   "source": [
    "y_pred_probs = model.predict(x_test_norm)\n",
    "y_pred = np.argmax(y_pred_probs, axis=1)\n",
    "\n",
    "# Since y_test is one-hot encoded, you need to convert it back to class indices\n",
    "y_true = np.argmax(y_test, axis=1)  # Convert one-hot encoded labels to class indices\n",
    "\n",
    "cm = confusion_matrix(y_true, y_pred)\n",
    "disp = ConfusionMatrixDisplay(confusion_matrix=cm)\n",
    "disp.plot(cmap=\"Purples\")\n",
    "plt.title('Confusion Matrix MNIST - Pruning')\n",
    "plt.show()\n"
   ]
  },
  {
   "cell_type": "markdown",
   "metadata": {},
   "source": [
    "\n",
    "#### 📝 Ejercicio: \n",
    "\n",
    "- Modificar el numero de bits (4, 8, 16, 32) y reportar las metricas de cada modelo, considerando QAT y QAP. Que conclusion puede obtener? \n",
    "\n",
    "- Modificar la arquitectura MLP (aumentando o disminuyendo capas) y reemplazando la capa _Flatten_ por _Dense_ . \n",
    "\n",
    "--- "
   ]
  },
  {
   "cell_type": "markdown",
   "metadata": {},
   "source": [
    "### Knowledge distillation\n",
    "\n",
    "\n",
    "Esta técnica se dedica a transferir conocimiento de una red grande (_teacher_) a una red objetivo más pequeña y más rápida (_distilled_ o _estudiante_) que puede reproducir el comportamiento de la arquitectura maestra y al mismo tiempo ser computacionalmente menos costosa.\n",
    "\n",
    "![alt text](../img/lab02/distillation.png)\n",
    "\n",
    "Para mas información sobre **Knowledge Distillation**: Hinton, G. (2015). _Distilling the Knowledge in a Neural Network_. arXiv preprint arXiv:1503.02531.\n",
    "\n"
   ]
  },
  {
   "cell_type": "code",
   "execution_count": null,
   "metadata": {},
   "outputs": [],
   "source": [
    "# Cargar dataset MNIST\n",
    "(x_train, y_train), (x_test, y_test) = keras.datasets.mnist.load_data()\n",
    "x_train, x_test = x_train / 255.0, x_test / 255.0            # Normalización\n",
    "\n",
    "x_train = x_train.reshape(-1, 28 * 28)                       # Aplanar imágenes\n",
    "x_test = x_test.reshape(-1, 28 * 28)\n",
    "\n",
    "y_train = to_categorical(y_train, num_classes=10, dtype=int)\n",
    "y_test = to_categorical(y_test, num_classes=10, dtype=int)"
   ]
  },
  {
   "cell_type": "code",
   "execution_count": null,
   "metadata": {},
   "outputs": [],
   "source": [
    "# Definir el modelo Teacher (MLP grande) \n",
    "\n",
    "def build_teacher():\n",
    "    model = keras.Sequential([\n",
    "        Dense(512, activation=\"relu\", input_shape=(28 * 28,)),\n",
    "        Dense(256, activation=\"relu\"),\n",
    "        Dense(10,  activation=\"softmax\")  \n",
    "    ])\n",
    "    return model\n",
    "\n",
    "# Compilar y entrenar el modelo Teacher\n",
    "teacher = build_teacher()\n",
    "teacher.summary()\n",
    "\n",
    "teacher.compile(optimizer=\"adam\", loss=\"categorical_crossentropy\", metrics=[\"accuracy\"])\n",
    "history = teacher.fit(x_train, y_train, epochs=16, batch_size=128, validation_data=(x_test, y_test))\n",
    "\n"
   ]
  },
  {
   "cell_type": "code",
   "execution_count": null,
   "metadata": {},
   "outputs": [],
   "source": [
    "# Definir el modelo Student (MLP más pequeño)\n",
    "\n",
    "def build_student():\n",
    "    model = keras.Sequential([\n",
    "        Dense(5, activation=\"relu\", input_shape=(28 * 28,)),  \n",
    "        Dense(7, activation=\"relu\"),\n",
    "        Dense(10, activation=\"softmax\")  # Softmax en la salida\n",
    "    ])\n",
    "    return model\n",
    "\n",
    "student = build_student()"
   ]
  },
  {
   "cell_type": "code",
   "execution_count": null,
   "metadata": {},
   "outputs": [],
   "source": [
    "train_labels = np.argmax(y_train, axis=1)\n",
    "\n",
    "distilledMLP = Distiller(student=student, teacher=teacher)"
   ]
  },
  {
   "cell_type": "code",
   "execution_count": null,
   "metadata": {},
   "outputs": [],
   "source": [
    "distilledMLP.student.summary()"
   ]
  },
  {
   "cell_type": "code",
   "execution_count": null,
   "metadata": {},
   "outputs": [],
   "source": [
    "# Proceso de destilación del conocimiento\n",
    "\n",
    "adam = Adam(0.0001)\n",
    "distilledMLP.compile(\n",
    "        optimizer=adam,\n",
    "        metrics=[keras.metrics.SparseCategoricalAccuracy()],\n",
    "        student_loss_fn=keras.losses.SparseCategoricalCrossentropy(from_logits=True),\n",
    "        distillation_loss_fn=keras.losses.KLDivergence(),\n",
    "        alpha=0.1, \n",
    "        temperature=10,\n",
    "    )\n",
    "\n",
    "history = distilledMLP.fit(x_train, train_labels, validation_split=0.2, batch_size = 64, epochs= 32)"
   ]
  },
  {
   "cell_type": "code",
   "execution_count": null,
   "metadata": {},
   "outputs": [],
   "source": []
  },
  {
   "cell_type": "code",
   "execution_count": null,
   "metadata": {},
   "outputs": [],
   "source": [
    "# Plot accuracy over epochs\n",
    "plt.figure(figsize=(15,3))\n",
    "plt.plot(history.history['sparse_categorical_accuracy'], label='Train Accuracy')\n",
    "plt.plot(history.history['val_sparse_categorical_accuracy'], label='Validation Accuracy')\n",
    "plt.xlabel('Epochs')\n",
    "plt.ylabel('Accuracy')\n",
    "plt.legend()\n",
    "plt.title('Accuracy over epochs')\n",
    "plt.show()"
   ]
  },
  {
   "cell_type": "code",
   "execution_count": null,
   "metadata": {},
   "outputs": [],
   "source": [
    "# Plot loss over epochs\n",
    "plt.figure(figsize=(15,3))\n",
    "plt.plot(history.history['student_loss'], label='Train Loss')\n",
    "plt.plot(history.history['val_student_loss'], label='Validation Loss')\n",
    "plt.xlabel('Epochs')\n",
    "plt.ylabel('Loss')\n",
    "plt.legend()\n",
    "plt.title('Loss over epochs')\n",
    "plt.show()\n"
   ]
  },
  {
   "cell_type": "markdown",
   "metadata": {},
   "source": [
    "#### Métricas"
   ]
  },
  {
   "cell_type": "code",
   "execution_count": null,
   "metadata": {},
   "outputs": [],
   "source": [
    "y_pred_probs = distilledMLP.student.predict(x_test)\n",
    "y_pred = np.argmax(y_pred_probs, axis=1)\n",
    "\n",
    "# Since y_test is one-hot encoded, you need to convert it back to class indices\n",
    "y_true = np.argmax(y_test, axis=1)  # Convert one-hot encoded labels to class indices\n",
    "\n",
    "cm = confusion_matrix(y_true, y_pred)\n",
    "disp = ConfusionMatrixDisplay(confusion_matrix=cm)\n",
    "disp.plot(cmap='Purples')\n",
    "plt.show()\n"
   ]
  },
  {
   "cell_type": "markdown",
   "metadata": {},
   "source": [
    "#### Guardar el modelo entrenado en disco"
   ]
  },
  {
   "cell_type": "code",
   "execution_count": null,
   "metadata": {},
   "outputs": [],
   "source": [
    "distilledMLP.student.save(\"models/mnistKD.h5\")"
   ]
  },
  {
   "cell_type": "markdown",
   "metadata": {},
   "source": [
    "--------"
   ]
  },
  {
   "cell_type": "markdown",
   "metadata": {},
   "source": [
    "#### 📝 Ejercicios\n",
    "\n",
    "- Variar la arquitectura del estudiante y analizar el rendimiento del modelo entrenado mediante las métricas correspondientes. Considerar los siguientes escenarios:\n",
    "    \n",
    "    - Disminuir el numero de capas.\n",
    "\n",
    "    - Variar la cantidad de neuronas en cada capa. \n",
    "\n",
    "    - Incrementar la cantidad de capas y disminuir la cantidad de neuronas en cada una de las capas. \n",
    "\n",
    "- Repetir los procesos de compresión para MNIST fashion y CIFAR-10 datasets. \n",
    "\n",
    "- ¿Qué conclusiones puede obtener? \n",
    "\n",
    "- 🎯 Para continuar con el próximo laboratorio: \n",
    "\n",
    "    -  **Para MNIST dataset, definir un clasificador binario: que discrimine solamente entre 6 y 9, o entre 7 y 5. Aplicar Quantization-Aware Pruning como método de entrenamiento y compresión.** \n",
    "\n",
    "    - **Para el mismo escenario, emplee QAT combinado con Knowledge Distillation**.\n"
   ]
  },
  {
   "cell_type": "markdown",
   "metadata": {},
   "source": []
  }
 ],
 "metadata": {
  "kernelspec": {
   "display_name": "neuralEnv",
   "language": "python",
   "name": "python3"
  },
  "language_info": {
   "codemirror_mode": {
    "name": "ipython",
    "version": 3
   },
   "file_extension": ".py",
   "mimetype": "text/x-python",
   "name": "python",
   "nbconvert_exporter": "python",
   "pygments_lexer": "ipython3",
   "version": "3.9.13"
  }
 },
 "nbformat": 4,
 "nbformat_minor": 2
}
